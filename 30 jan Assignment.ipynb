{
 "cells": [
  {
   "cell_type": "markdown",
   "id": "6726cd81-7a28-4dbd-a3c5-45691f8edcc1",
   "metadata": {},
   "source": [
    "30 JAN Assignment........"
   ]
  },
  {
   "cell_type": "code",
   "execution_count": null,
   "id": "803a079d-e4c5-4368-90ca-20c16a0db727",
   "metadata": {},
   "outputs": [],
   "source": [
    "Qno 1. Wrie a program to accept percentage from the user and display the grade according to following criteria.\n",
    "\n",
    "Grade - A if marks >90\n",
    "Grade - B if marks >80 and <=90\n",
    "Grade - C if marks >=60 and <=80\n",
    "Grade - D if marks below 60"
   ]
  },
  {
   "cell_type": "code",
   "execution_count": 10,
   "id": "faf35dc3-311f-4b0a-931a-adc1e11b40d6",
   "metadata": {},
   "outputs": [
    {
     "name": "stdin",
     "output_type": "stream",
     "text": [
      "Enter the marks: 76\n"
     ]
    },
    {
     "name": "stdout",
     "output_type": "stream",
     "text": [
      "grade C\n"
     ]
    }
   ],
   "source": [
    "Percentage = int(input(\"Enter the marks:\"))\n",
    "\n",
    "if Percentage > 90:\n",
    "                       \n",
    "    print(\"grade A\")\n",
    "                       \n",
    "elif Percentage >80 and Percentage <=90:\n",
    "                       \n",
    "    print(\"grade B\")\n",
    "                       \n",
    "elif Percentage >=60 and Percentage <=80:\n",
    "                       \n",
    "    print(\"grade C\")\n",
    "else:\n",
    "    print(\"grade D\")                   "
   ]
  },
  {
   "cell_type": "code",
   "execution_count": null,
   "id": "8e9f6827-c0a6-4d8b-8a4e-c3007f44c53f",
   "metadata": {},
   "outputs": [],
   "source": [
    "Qno 2. Write a program to accept the costprice of bike and display the road tax to be paid according to the following criteria.\n",
    "\n",
    "Tax 15% - if costprice(in Rs) > 100000\n",
    "Tax 10% - if costprice(in Rs) > 50000 and <=100000\n",
    "Tax 5% - if costprice(in Rs) <= 50000"
   ]
  },
  {
   "cell_type": "code",
   "execution_count": 12,
   "id": "e522af2c-54ec-47c3-8e04-f463438bac2b",
   "metadata": {},
   "outputs": [
    {
     "name": "stdin",
     "output_type": "stream",
     "text": [
      "Enetr the  Price of bike: 700000\n"
     ]
    },
    {
     "name": "stdout",
     "output_type": "stream",
     "text": [
      "Tax to be paid 105000.0\n"
     ]
    }
   ],
   "source": [
    "Tax = 0\n",
    "Price = int(input(\"Enetr the  Price of bike:\"))\n",
    "\n",
    "if Price > 100000:\n",
    "    Tax = 15/100*Price\n",
    "    \n",
    "elif Price >50000 and Price <=100000:\n",
    "    Tax = 10/100*Price\n",
    "    \n",
    "else:\n",
    "    Tax = 5/100*Price\n",
    "print(\"Tax to be paid\",Tax)"
   ]
  },
  {
   "cell_type": "code",
   "execution_count": null,
   "id": "deff4637-b9a4-4c70-b829-4301f68d8769",
   "metadata": {},
   "outputs": [],
   "source": [
    "Qno 3. Accept any city from the users and display monuments of that city.\n",
    "\n",
    "City-Delhi  - display- monuments Redfort\n",
    "City-Agra  - dislay - monuments Taj Mahal\n",
    "City-Jaipur - display - monuments Jal Mahal"
   ]
  },
  {
   "cell_type": "code",
   "execution_count": 7,
   "id": "1e5bad0d-adab-46e8-a17f-439d52da8eda",
   "metadata": {},
   "outputs": [
    {
     "name": "stdin",
     "output_type": "stream",
     "text": [
      "Enter the city! Delhi\n"
     ]
    },
    {
     "name": "stdout",
     "output_type": "stream",
     "text": [
      "Redfort\n"
     ]
    }
   ],
   "source": [
    "City = str(input(\"Enter the city!\"))\n",
    "if City == \"Delhi\":\n",
    "    print(\"Redfort\")\n",
    "elif City == \"Agra\":\n",
    "    print(\"Taj Mahal\")\n",
    "elif City == \"Jaipur\":\n",
    "    print(\"Jal Mahal\")\n",
    "else:\n",
    "    print(\"Nothing\")"
   ]
  },
  {
   "cell_type": "code",
   "execution_count": null,
   "id": "704120cf-5f32-4ecd-8880-7a25b8887ebe",
   "metadata": {},
   "outputs": [],
   "source": [
    "Qno 4. Check how many times a number can be divided by 3 before it is less than or equal to 10."
   ]
  },
  {
   "cell_type": "code",
   "execution_count": 10,
   "id": "04ac27b9-a284-4f7f-a3a6-6716e7efc877",
   "metadata": {},
   "outputs": [
    {
     "name": "stdin",
     "output_type": "stream",
     "text": [
      "Enter a number: 45\n"
     ]
    },
    {
     "name": "stdout",
     "output_type": "stream",
     "text": [
      "The total time is: 2\n"
     ]
    }
   ],
   "source": [
    "count = 0\n",
    "number = int(input(\"Enter a number:\"))\n",
    "while(number > 10):\n",
    "    number = number / 3\n",
    "    count = count + 1\n",
    "print(\"The total time is:\",count)"
   ]
  },
  {
   "cell_type": "code",
   "execution_count": null,
   "id": "a78275c0-d334-439e-9e17-bf086e499e05",
   "metadata": {},
   "outputs": [],
   "source": [
    "Qno 5. Why and When to use while loop in python give a detail description with example?\n",
    "\n",
    "Ans -  When -- Python while loop is used to run a block code until a certain condition is met. Here, A while loop evaluates the condition. \n",
    "If the condition evaluates to True , the code inside the while loop is executed.\n",
    "\n",
    "Why -- While statement in python are used to repeatedly execute a certain statement as long as the condition provided in the while \n",
    "loop statement stay true.\n",
    "\n",
    "for example:\n",
    "i = 1\n",
    "n = 5\n",
    "\n",
    "# while loop from i = 1 to 5\n",
    "while i <= n:\n",
    "    print(i)\n",
    "    i = i + 1"
   ]
  },
  {
   "cell_type": "code",
   "execution_count": 13,
   "id": "95b09309-b965-47e6-968e-7c4eb78d9b00",
   "metadata": {},
   "outputs": [
    {
     "name": "stdin",
     "output_type": "stream",
     "text": [
      "Enter number of rows :  6\n"
     ]
    },
    {
     "name": "stdout",
     "output_type": "stream",
     "text": [
      "* \n",
      "* * \n",
      "* * * \n",
      "* * * * \n",
      "* * * * * \n",
      "* * * * * * \n"
     ]
    }
   ],
   "source": [
    "#Qno 6. Using nested while loop to print 3 different pattern.\n",
    "\n",
    "#pattern 1.\n",
    "\n",
    "n = int(input('Enter number of rows : '))\n",
    "\n",
    "i = 1\n",
    "while i <= n :\n",
    "    j = 1\n",
    "    while j <= i:\n",
    "        print(\"*\", end = \" \")\n",
    "        j += 1\n",
    "    print()\n",
    "    i += 1"
   ]
  },
  {
   "cell_type": "code",
   "execution_count": 14,
   "id": "32bdbdc6-09a4-4892-ad27-535434e454b6",
   "metadata": {},
   "outputs": [
    {
     "name": "stdin",
     "output_type": "stream",
     "text": [
      "Enter number of rows :  5\n"
     ]
    },
    {
     "name": "stdout",
     "output_type": "stream",
     "text": [
      "1 \n",
      "1 1 \n",
      "1 1 1 \n",
      "1 1 1 1 \n",
      "1 1 1 1 1 \n"
     ]
    }
   ],
   "source": [
    "##pattern 2.\n",
    "n = int(input('Enter number of rows : '))\n",
    "\n",
    "i = 1\n",
    "while i <= n :\n",
    "    j = 1\n",
    "    while j <= i:\n",
    "        print(\"1\", end = \" \")\n",
    "        j += 1\n",
    "    print()\n",
    "    i += 1"
   ]
  },
  {
   "cell_type": "code",
   "execution_count": null,
   "id": "da2da54d-b158-49ba-abf5-ffa8d2354c67",
   "metadata": {},
   "outputs": [],
   "source": [
    "##pattern 3.\n",
    "\n",
    "n = int(input('Enter number of rows : '))\n",
    "\n",
    "i = 1\n",
    "while i <= n :\n",
    "    j = 1\n",
    "    while j <= i:\n",
    "        print(\"2\", end = \" \")\n",
    "        j += 1\n",
    "    print()\n",
    "    i -= 1"
   ]
  },
  {
   "cell_type": "code",
   "execution_count": null,
   "id": "3c20afb6-5194-4f8f-a873-1f0cf51fcc77",
   "metadata": {},
   "outputs": [],
   "source": [
    "##Qno 7. Reverse a whileloop to display number from 10 to 1.\n",
    "\n",
    "i = 10\n",
    "while i > 0:\n",
    "    print(i)\n",
    "    i = i - 1"
   ]
  },
  {
   "cell_type": "code",
   "execution_count": null,
   "id": "f9fac77f-2ca7-42c6-a5f2-e88af49b9409",
   "metadata": {},
   "outputs": [],
   "source": []
  }
 ],
 "metadata": {
  "kernelspec": {
   "display_name": "Python 3 (ipykernel)",
   "language": "python",
   "name": "python3"
  },
  "language_info": {
   "codemirror_mode": {
    "name": "ipython",
    "version": 3
   },
   "file_extension": ".py",
   "mimetype": "text/x-python",
   "name": "python",
   "nbconvert_exporter": "python",
   "pygments_lexer": "ipython3",
   "version": "3.10.8"
  }
 },
 "nbformat": 4,
 "nbformat_minor": 5
}
